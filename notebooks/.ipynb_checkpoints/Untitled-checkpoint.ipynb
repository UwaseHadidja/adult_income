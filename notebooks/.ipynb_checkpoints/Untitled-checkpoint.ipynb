{
 "cells": [
  {
   "cell_type": "markdown",
   "id": "c622cb4b-59ec-4552-9e9c-9eb467c3cb6d",
   "metadata": {},
   "source": [
    "# UCI Adult Income Dataset - Exploratory and Descriptive Analysis\n",
    "\n",
    "In this notebook, we carry out an in-depth exploratory and descriptive analysis of the UCI Adult Income Dataset, a widely used dataset for income prediction tasks based on individual demographic and employment attributes.\n",
    "\n",
    "This phase of analysis is essential for uncovering patterns, detecting potential biases, and gaining intuition about the dataset’s structure before applying any modelling procedures. We examine the distribution of key numerical and categorical variables, investigate relationships between demographic features and income levels, and use visualizations to summarize insights. Particular focus is placed on income disparities across **age groups**, **geographical regions**, **races**, and **education-occupation combinations**, helping lay a solid foundation for downstream modeling and policy-relevant interpretation."
   ]
  },
  {
   "cell_type": "markdown",
   "id": "5f951dc1-9a3a-40d9-865f-dda709ea6fa3",
   "metadata": {},
   "source": [
    "We begin our analysis by importing the core Python libraries required for **data handling**, **numerical computation**, **visualization**, and **directory management**:\n",
    "\n",
    "- `pandas`: Enables efficient manipulation, filtering, and aggregation of structured tabular data, forming the backbone of our analysis pipeline.\n",
    "\n",
    "- `numpy`: Provides support for fast numerical operations, array-based computation, and statistical routines.\n",
    "\n",
    "- `os`: Facilitates interaction with the file system, allowing us to construct flexible and portable directory paths for data and output management.\n",
    "\n",
    "- `plotly.express`: A high-level graphing library that enables the creation of interactive, publication-quality visualizations, which we use extensively to uncover patterns and present insights throughout the notebook."
   ]
  },
  {
   "cell_type": "code",
   "execution_count": 4,
   "id": "ee9c065e-8995-4969-a0f9-0f04177bd56b",
   "metadata": {},
   "outputs": [],
   "source": [
    "# Import libraries\n",
    "import os\n",
    "import pandas as pd\n",
    "import numpy as np\n",
    "import plotly.express as px"
   ]
  },
  {
   "cell_type": "markdown",
   "id": "f7e4349c-6f92-4c1d-8777-e043199c710a",
   "metadata": {},
   "source": [
    "## Define and Create Directory Paths\n",
    "\n",
    "To ensure reproducibility andorganized storage, we programmatically create directories if they don't already exist for:\n",
    "\n",
    "- **raw data**\n",
    "- **processed data**\n",
    "- **results**\n",
    "- **documentation**\n",
    "\n",
    "These directories will store intermediate and final outputs for reproducibility."
   ]
  },
  {
   "cell_type": "code",
   "execution_count": 5,
   "id": "63eb6cf7-1096-4fe2-8e4b-506da896cb0b",
   "metadata": {},
   "outputs": [],
   "source": [
    "# Get working directory\n",
    "current_dir = os.getcwd()\n",
    "# Go one directory up to the root directory\n",
    "project_root_dir = os.path.dirname(current_dir)\n",
    "# Define paths to the data folders\n",
    "data_dir = os.path.join(project_root_dir, 'data')\n",
    "raw_dir = os.path.join(data_dir, 'raw')\n",
    "processed_dir = os.path.join(data_dir, 'processed')\n",
    "# Define paths to results folder\n",
    "results_dir = os.path.join(project_root_dir, 'results')\n",
    "# Define paths to docs folder\n",
    "docs_dir = os.path.join(project_root_dir, 'docs')\n",
    "\n",
    "# Create directories if they do not exist\n",
    "os.makedirs(raw_dir, exist_ok = True)\n",
    "os.makedirs(processed_dir, exist_ok = True)\n",
    "os.makedirs(results_dir, exist_ok = True)\n",
    "os.makedirs(docs_dir, exist_ok = True)"
   ]
  },
  {
   "cell_type": "markdown",
   "id": "fc1d2c7a-04cb-40d7-b9b8-a1fe56ed9967",
   "metadata": {},
   "source": [
    "## Loading the Cleaned Dataset\n",
    "\n",
    "We load the cleaned version of the UCI Adult Income Dataset from the processed data directory into a Pandas DataFrame. The `head(10)` function shows the first ten records, giving a glimpse into the data columns such as `age`, `workclass`, `education_num`, etc."
   ]
  },
  {
   "cell_type": "code",
   "execution_count": 6,
   "id": "46d038f2-45c4-45d4-858d-4fb920d6657e",
   "metadata": {},
   "outputs": [
    {
     "ename": "FileNotFoundError",
     "evalue": "[Errno 2] No such file or directory: 'C:\\\\Users\\\\HP\\\\data\\\\processed\\\\adult_cleaned.csv'",
     "output_type": "error",
     "traceback": [
      "\u001b[1;31m---------------------------------------------------------------------------\u001b[0m",
      "\u001b[1;31mFileNotFoundError\u001b[0m                         Traceback (most recent call last)",
      "Cell \u001b[1;32mIn[6], line 2\u001b[0m\n\u001b[0;32m      1\u001b[0m adult_data_filename \u001b[38;5;241m=\u001b[39m os\u001b[38;5;241m.\u001b[39mpath\u001b[38;5;241m.\u001b[39mjoin(processed_dir, \u001b[38;5;124m\"\u001b[39m\u001b[38;5;124madult_cleaned.csv\u001b[39m\u001b[38;5;124m\"\u001b[39m)\n\u001b[1;32m----> 2\u001b[0m adult_df \u001b[38;5;241m=\u001b[39m pd\u001b[38;5;241m.\u001b[39mread_csv(adult_data_filename)\n\u001b[0;32m      3\u001b[0m adult_df\u001b[38;5;241m.\u001b[39mhead(\u001b[38;5;241m10\u001b[39m)\n",
      "File \u001b[1;32m~\\anaconda3\\Lib\\site-packages\\pandas\\io\\parsers\\readers.py:1026\u001b[0m, in \u001b[0;36mread_csv\u001b[1;34m(filepath_or_buffer, sep, delimiter, header, names, index_col, usecols, dtype, engine, converters, true_values, false_values, skipinitialspace, skiprows, skipfooter, nrows, na_values, keep_default_na, na_filter, verbose, skip_blank_lines, parse_dates, infer_datetime_format, keep_date_col, date_parser, date_format, dayfirst, cache_dates, iterator, chunksize, compression, thousands, decimal, lineterminator, quotechar, quoting, doublequote, escapechar, comment, encoding, encoding_errors, dialect, on_bad_lines, delim_whitespace, low_memory, memory_map, float_precision, storage_options, dtype_backend)\u001b[0m\n\u001b[0;32m   1013\u001b[0m kwds_defaults \u001b[38;5;241m=\u001b[39m _refine_defaults_read(\n\u001b[0;32m   1014\u001b[0m     dialect,\n\u001b[0;32m   1015\u001b[0m     delimiter,\n\u001b[1;32m   (...)\u001b[0m\n\u001b[0;32m   1022\u001b[0m     dtype_backend\u001b[38;5;241m=\u001b[39mdtype_backend,\n\u001b[0;32m   1023\u001b[0m )\n\u001b[0;32m   1024\u001b[0m kwds\u001b[38;5;241m.\u001b[39mupdate(kwds_defaults)\n\u001b[1;32m-> 1026\u001b[0m \u001b[38;5;28;01mreturn\u001b[39;00m _read(filepath_or_buffer, kwds)\n",
      "File \u001b[1;32m~\\anaconda3\\Lib\\site-packages\\pandas\\io\\parsers\\readers.py:620\u001b[0m, in \u001b[0;36m_read\u001b[1;34m(filepath_or_buffer, kwds)\u001b[0m\n\u001b[0;32m    617\u001b[0m _validate_names(kwds\u001b[38;5;241m.\u001b[39mget(\u001b[38;5;124m\"\u001b[39m\u001b[38;5;124mnames\u001b[39m\u001b[38;5;124m\"\u001b[39m, \u001b[38;5;28;01mNone\u001b[39;00m))\n\u001b[0;32m    619\u001b[0m \u001b[38;5;66;03m# Create the parser.\u001b[39;00m\n\u001b[1;32m--> 620\u001b[0m parser \u001b[38;5;241m=\u001b[39m TextFileReader(filepath_or_buffer, \u001b[38;5;241m*\u001b[39m\u001b[38;5;241m*\u001b[39mkwds)\n\u001b[0;32m    622\u001b[0m \u001b[38;5;28;01mif\u001b[39;00m chunksize \u001b[38;5;129;01mor\u001b[39;00m iterator:\n\u001b[0;32m    623\u001b[0m     \u001b[38;5;28;01mreturn\u001b[39;00m parser\n",
      "File \u001b[1;32m~\\anaconda3\\Lib\\site-packages\\pandas\\io\\parsers\\readers.py:1620\u001b[0m, in \u001b[0;36mTextFileReader.__init__\u001b[1;34m(self, f, engine, **kwds)\u001b[0m\n\u001b[0;32m   1617\u001b[0m     \u001b[38;5;28mself\u001b[39m\u001b[38;5;241m.\u001b[39moptions[\u001b[38;5;124m\"\u001b[39m\u001b[38;5;124mhas_index_names\u001b[39m\u001b[38;5;124m\"\u001b[39m] \u001b[38;5;241m=\u001b[39m kwds[\u001b[38;5;124m\"\u001b[39m\u001b[38;5;124mhas_index_names\u001b[39m\u001b[38;5;124m\"\u001b[39m]\n\u001b[0;32m   1619\u001b[0m \u001b[38;5;28mself\u001b[39m\u001b[38;5;241m.\u001b[39mhandles: IOHandles \u001b[38;5;241m|\u001b[39m \u001b[38;5;28;01mNone\u001b[39;00m \u001b[38;5;241m=\u001b[39m \u001b[38;5;28;01mNone\u001b[39;00m\n\u001b[1;32m-> 1620\u001b[0m \u001b[38;5;28mself\u001b[39m\u001b[38;5;241m.\u001b[39m_engine \u001b[38;5;241m=\u001b[39m \u001b[38;5;28mself\u001b[39m\u001b[38;5;241m.\u001b[39m_make_engine(f, \u001b[38;5;28mself\u001b[39m\u001b[38;5;241m.\u001b[39mengine)\n",
      "File \u001b[1;32m~\\anaconda3\\Lib\\site-packages\\pandas\\io\\parsers\\readers.py:1880\u001b[0m, in \u001b[0;36mTextFileReader._make_engine\u001b[1;34m(self, f, engine)\u001b[0m\n\u001b[0;32m   1878\u001b[0m     \u001b[38;5;28;01mif\u001b[39;00m \u001b[38;5;124m\"\u001b[39m\u001b[38;5;124mb\u001b[39m\u001b[38;5;124m\"\u001b[39m \u001b[38;5;129;01mnot\u001b[39;00m \u001b[38;5;129;01min\u001b[39;00m mode:\n\u001b[0;32m   1879\u001b[0m         mode \u001b[38;5;241m+\u001b[39m\u001b[38;5;241m=\u001b[39m \u001b[38;5;124m\"\u001b[39m\u001b[38;5;124mb\u001b[39m\u001b[38;5;124m\"\u001b[39m\n\u001b[1;32m-> 1880\u001b[0m \u001b[38;5;28mself\u001b[39m\u001b[38;5;241m.\u001b[39mhandles \u001b[38;5;241m=\u001b[39m get_handle(\n\u001b[0;32m   1881\u001b[0m     f,\n\u001b[0;32m   1882\u001b[0m     mode,\n\u001b[0;32m   1883\u001b[0m     encoding\u001b[38;5;241m=\u001b[39m\u001b[38;5;28mself\u001b[39m\u001b[38;5;241m.\u001b[39moptions\u001b[38;5;241m.\u001b[39mget(\u001b[38;5;124m\"\u001b[39m\u001b[38;5;124mencoding\u001b[39m\u001b[38;5;124m\"\u001b[39m, \u001b[38;5;28;01mNone\u001b[39;00m),\n\u001b[0;32m   1884\u001b[0m     compression\u001b[38;5;241m=\u001b[39m\u001b[38;5;28mself\u001b[39m\u001b[38;5;241m.\u001b[39moptions\u001b[38;5;241m.\u001b[39mget(\u001b[38;5;124m\"\u001b[39m\u001b[38;5;124mcompression\u001b[39m\u001b[38;5;124m\"\u001b[39m, \u001b[38;5;28;01mNone\u001b[39;00m),\n\u001b[0;32m   1885\u001b[0m     memory_map\u001b[38;5;241m=\u001b[39m\u001b[38;5;28mself\u001b[39m\u001b[38;5;241m.\u001b[39moptions\u001b[38;5;241m.\u001b[39mget(\u001b[38;5;124m\"\u001b[39m\u001b[38;5;124mmemory_map\u001b[39m\u001b[38;5;124m\"\u001b[39m, \u001b[38;5;28;01mFalse\u001b[39;00m),\n\u001b[0;32m   1886\u001b[0m     is_text\u001b[38;5;241m=\u001b[39mis_text,\n\u001b[0;32m   1887\u001b[0m     errors\u001b[38;5;241m=\u001b[39m\u001b[38;5;28mself\u001b[39m\u001b[38;5;241m.\u001b[39moptions\u001b[38;5;241m.\u001b[39mget(\u001b[38;5;124m\"\u001b[39m\u001b[38;5;124mencoding_errors\u001b[39m\u001b[38;5;124m\"\u001b[39m, \u001b[38;5;124m\"\u001b[39m\u001b[38;5;124mstrict\u001b[39m\u001b[38;5;124m\"\u001b[39m),\n\u001b[0;32m   1888\u001b[0m     storage_options\u001b[38;5;241m=\u001b[39m\u001b[38;5;28mself\u001b[39m\u001b[38;5;241m.\u001b[39moptions\u001b[38;5;241m.\u001b[39mget(\u001b[38;5;124m\"\u001b[39m\u001b[38;5;124mstorage_options\u001b[39m\u001b[38;5;124m\"\u001b[39m, \u001b[38;5;28;01mNone\u001b[39;00m),\n\u001b[0;32m   1889\u001b[0m )\n\u001b[0;32m   1890\u001b[0m \u001b[38;5;28;01massert\u001b[39;00m \u001b[38;5;28mself\u001b[39m\u001b[38;5;241m.\u001b[39mhandles \u001b[38;5;129;01mis\u001b[39;00m \u001b[38;5;129;01mnot\u001b[39;00m \u001b[38;5;28;01mNone\u001b[39;00m\n\u001b[0;32m   1891\u001b[0m f \u001b[38;5;241m=\u001b[39m \u001b[38;5;28mself\u001b[39m\u001b[38;5;241m.\u001b[39mhandles\u001b[38;5;241m.\u001b[39mhandle\n",
      "File \u001b[1;32m~\\anaconda3\\Lib\\site-packages\\pandas\\io\\common.py:873\u001b[0m, in \u001b[0;36mget_handle\u001b[1;34m(path_or_buf, mode, encoding, compression, memory_map, is_text, errors, storage_options)\u001b[0m\n\u001b[0;32m    868\u001b[0m \u001b[38;5;28;01melif\u001b[39;00m \u001b[38;5;28misinstance\u001b[39m(handle, \u001b[38;5;28mstr\u001b[39m):\n\u001b[0;32m    869\u001b[0m     \u001b[38;5;66;03m# Check whether the filename is to be opened in binary mode.\u001b[39;00m\n\u001b[0;32m    870\u001b[0m     \u001b[38;5;66;03m# Binary mode does not support 'encoding' and 'newline'.\u001b[39;00m\n\u001b[0;32m    871\u001b[0m     \u001b[38;5;28;01mif\u001b[39;00m ioargs\u001b[38;5;241m.\u001b[39mencoding \u001b[38;5;129;01mand\u001b[39;00m \u001b[38;5;124m\"\u001b[39m\u001b[38;5;124mb\u001b[39m\u001b[38;5;124m\"\u001b[39m \u001b[38;5;129;01mnot\u001b[39;00m \u001b[38;5;129;01min\u001b[39;00m ioargs\u001b[38;5;241m.\u001b[39mmode:\n\u001b[0;32m    872\u001b[0m         \u001b[38;5;66;03m# Encoding\u001b[39;00m\n\u001b[1;32m--> 873\u001b[0m         handle \u001b[38;5;241m=\u001b[39m \u001b[38;5;28mopen\u001b[39m(\n\u001b[0;32m    874\u001b[0m             handle,\n\u001b[0;32m    875\u001b[0m             ioargs\u001b[38;5;241m.\u001b[39mmode,\n\u001b[0;32m    876\u001b[0m             encoding\u001b[38;5;241m=\u001b[39mioargs\u001b[38;5;241m.\u001b[39mencoding,\n\u001b[0;32m    877\u001b[0m             errors\u001b[38;5;241m=\u001b[39merrors,\n\u001b[0;32m    878\u001b[0m             newline\u001b[38;5;241m=\u001b[39m\u001b[38;5;124m\"\u001b[39m\u001b[38;5;124m\"\u001b[39m,\n\u001b[0;32m    879\u001b[0m         )\n\u001b[0;32m    880\u001b[0m     \u001b[38;5;28;01melse\u001b[39;00m:\n\u001b[0;32m    881\u001b[0m         \u001b[38;5;66;03m# Binary mode\u001b[39;00m\n\u001b[0;32m    882\u001b[0m         handle \u001b[38;5;241m=\u001b[39m \u001b[38;5;28mopen\u001b[39m(handle, ioargs\u001b[38;5;241m.\u001b[39mmode)\n",
      "\u001b[1;31mFileNotFoundError\u001b[0m: [Errno 2] No such file or directory: 'C:\\\\Users\\\\HP\\\\data\\\\processed\\\\adult_cleaned.csv'"
     ]
    }
   ],
   "source": [
    "adult_data_filename = os.path.join(processed_dir, \"adult_cleaned.csv\")\n",
    "adult_df = pd.read_csv(adult_data_filename)\n",
    "adult_df.head(10)"
   ]
  },
  {
   "cell_type": "markdown",
   "id": "e3246f55-773e-4bcc-bfe9-1dbbd86a56c1",
   "metadata": {},
   "source": [
    "## Dataset Dimensions and Data Types\n",
    "\n",
    "Here, we examine the structure of the dataset:\n",
    "\n",
    "- There are *32,513* entries and *16* variables.\n",
    "- The dataset includes both **numerical** (e.g., `age`, `hours_per_week`) and **categorical** variables (e.g., `sex`, `education_level`).\n",
    "\n",
    "Understanding data types and null entries is essential before proceeding with analysis."
   ]
  },
  {
   "cell_type": "code",
   "execution_count": null,
   "id": "f8f55263-5e15-4f50-a1e4-f421111145cf",
   "metadata": {},
   "outputs": [],
   "source": [
    "adult_df.shape"
   ]
  },
  {
   "cell_type": "code",
   "execution_count": null,
   "id": "652f89dc-3465-458e-8a46-4060b86bb75f",
   "metadata": {},
   "outputs": [],
   "source": [
    "adult_df.info()"
   ]
  },
  {
   "cell_type": "markdown",
   "id": "1f65b5e9-60fc-420f-96fd-4b7e028d2c8b",
   "metadata": {},
   "source": [
    "## Summary Statistics: Numerical Variables"
   ]
  },
  {
   "cell_type": "code",
   "execution_count": null,
   "id": "03e82b73-d99d-4554-8c57-80747017502e",
   "metadata": {},
   "outputs": [],
   "source": [
    "adult_df.describe()"
   ]
  },
  {
   "cell_type": "markdown",
   "id": "11d02b0a-ceeb-4243-ab58-c6221f6f1740",
   "metadata": {},
   "source": [
    "This summary provides a snapshot of key distribution characteristics. We see that:\n",
    "\n",
    "- Age ranges from 17 to 90, with a mean of 38.6 years. It is slightly right-skewed (positively skewed). While the average age is approximately 38.6 years, an examination of the percentiles reveals that the majority of individuals are clustered in the younger to middle-age range, with fewer observations in the older age brackets. This skewed age distribution might suggest labor force participation is concentrated in specific age groups, which could reflect broader demographic or economic realities.\n",
    "- Capital gains/losses are highly skewed, with most values at 0 (the 75th percentile is 0). This indicates that a small number of individuals report very large gains or losses, especially evident in the capital gain variable which reaches up to $99,999. These variables act as proxies for wealth-related income that goes beyond regular wages or salaries. Individuals with non-zero values for capital gains or losses often represent a distinct socioeconomic subset of the population — typically more financially literate, or with access to investment assets. The stark inequality in their distributions mirrors real-world disparities in asset ownership and investment returns.\n",
    "- The dataset has individuals working anywhere from 1 to 99 hours per week, with a median of 40. This aligns with the standard full-time work week in many countries (8 hours per day for 5 working days). The mean is slightly above that at 40.4 hours, suggesting a mild right skew, with a small subset of individuals working significantly longer hours. The mode is also 40, further reinforcing the prevalence of full-time work. A non-trivial number of individuals report working very few hours, possibly due to part-time work, unemployment, or semi-retirement. On the other extreme, some report working more than 45 hours per week, which may indicate multiple jobs, weekend-work, self-employment, or informal labor, and could reflect socioeconomic necessity."
   ]
  },
  {
   "cell_type": "markdown",
   "id": "3d0804da-861c-4942-b400-bca2436e8bcb",
   "metadata": {},
   "source": [
    "## Summary Statistics: Categorical Variables"
   ]
  },
  {
   "cell_type": "code",
   "execution_count": null,
   "id": "a91b00a0-586e-43fa-99fa-14baaa0551f1",
   "metadata": {},
   "outputs": [],
   "source": [
    "adult_df.describe(include='object')"
   ]
  },
  {
   "cell_type": "code",
   "execution_count": null,
   "id": "1a565d36-d031-41cc-9bd5-7c3f507669a2",
   "metadata": {},
   "outputs": [],
   "source": [
    "adult_df['workclass'].value_counts(normalize=True)"
   ]
  },
  {
   "cell_type": "code",
   "execution_count": null,
   "id": "e9a55d8e-4d07-49e1-a341-0a0816197985",
   "metadata": {},
   "outputs": [],
   "source": [
    "adult_df['marital_status'].value_counts(normalize=True)"
   ]
  },
  {
   "cell_type": "code",
   "execution_count": null,
   "id": "d199927d-4008-4716-913a-db1a78ef6c3f",
   "metadata": {},
   "outputs": [],
   "source": [
    "adult_df['relationship'].value_counts(normalize=True)"
   ]
  },
  {
   "cell_type": "code",
   "execution_count": null,
   "id": "2692008d-289e-457a-bd12-acb4c958a524",
   "metadata": {},
   "outputs": [],
   "source": [
    "adult_df['race'].value_counts(normalize=True)"
   ]
  },
  {
   "cell_type": "code",
   "execution_count": null,
   "id": "67ce02dc-fa59-4926-af90-2d0c330f5151",
   "metadata": {},
   "outputs": [],
   "source": [
    "adult_df['sex'].value_counts(normalize=True)"
   ]
  },
  {
   "cell_type": "code",
   "execution_count": null,
   "id": "e7b56e88-5727-4dba-8255-26cceda82fe7",
   "metadata": {},
   "outputs": [],
   "source": [
    "adult_df['education-level'].value_counts(normalize=True)"
   ]
  },
  {
   "cell_type": "code",
   "execution_count": null,
   "id": "6e090acd-d291-4ebd-9083-1e6d8e476b1d",
   "metadata": {},
   "outputs": [],
   "source": [
    "adult_df['occupation_grouped'].value_counts(normalize=True)"
   ]
  },
  {
   "cell_type": "code",
   "execution_count": null,
   "id": "1a738504-1c2d-4fe1-a050-31e746c1744d",
   "metadata": {},
   "outputs": [],
   "source": [
    "adult_df['native_region'].value_counts(normalize=True)"
   ]
  },
  {
   "cell_type": "code",
   "execution_count": null,
   "id": "7ade6372-70cc-4ea9-a9a3-2683baabe6e3",
   "metadata": {},
   "outputs": [],
   "source": [
    "adult_df['age_group'].value_counts(normalize=True)"
   ]
  },
  {
   "cell_type": "markdown",
   "id": "f3cd43c5-cb9e-4341-9ba5-bdd8337ca53e",
   "metadata": {},
   "source": [
    "`workclass`\n",
    "\n",
    "The private sector dominates, employing ~69.7% of the population. The government sector (13.4%) and self-employment (11.2%) also make up substantial portions of the workforce. A small fraction is labeled as \"unknown\" (5.6%), which may correspond to missing or ambiguous data entries. Tiny proportions are voluntary (0.04%) or unemployed (0.02%), possibly underreported or underrepresented in the sample.\n",
    "\n",
    "`marital_status`\n",
    "\n",
    "Married individuals make up the largest group (46.1%), followed by those who are single (32.8%) and divorced or separated (18.1%). Widowed individuals represent a small minority (~3.1%).\n",
    "\n",
    "`relationship`\n",
    "\n",
    "The majority are labeled as \"male spouse\" (40.5%) or \"single\" (36.1%). Smaller categories include children (15.6%), female spouses (4.8%), and extended relatives (3.0%). The dominance of `male spouse` reflects the dataset’s gendered structure and may point to traditional family roles. The relative scarcity of \"female spouse\" roles suggests potential gender imbalances in how income-earning is reported within households.\n",
    "\n",
    "`race`\n",
    "\n",
    "The dataset is overwhelmingly composed of White individuals (~85.4%). Other racial groups include Black (9.6%), Asian or Pacific Islander (3.2%), American Indian or Eskimo (1.0%), and Other (0.8%). The racial imbalance limits the generalizability of models trained on this data. Smaller racial groups may suffer from limited statistical power, affecting fairness and performance in predictive modeling.\n",
    "\n",
    "`sex`\n",
    "\n",
    "Males constitute 66.9% of the dataset, with females making up the remaining 33.1%. This male-skewed distribution could be due to sampling (e.g., primary earners in households), workforce participation patterns, or reporting biases.\n",
    "\n",
    "`education_level`\n",
    "\n",
    "Secondary-school graduates form the largest educational group (~32%), highlighting the central role of high school completion in the labor force. Tertiary education holders — those with university or equivalent degrees — account for nearly 25% of the population, representing a substantial segment with advanced qualifications. A notable 22.4% have attended some college without necessarily earning a degree, suggesting that partial post-secondary education is common, yet may not always translate into formal certification. The remaining 20% are distributed among those with only secondary education (9.4%), associate degrees (7.5%), primary school (3.5%), and a very small group with only preschool education (0.15%). It is ecident that the education distribution is skewed toward mid- to high-level education, with relatively few individuals having only basic schooling. This reflects a dataset that largely captures working-age adults in formal labor, which may underrepresent the least-educated populations.\n",
    "\n",
    "`occupation_grouped`\n",
    "\n",
    "White-collar occupations are the most prevalent (~51%), followed by blue-collar, service, and unknown. Smaller categories include military, which is marginal. Essentially, slightly over half of individuals in the dataset work in professional, managerial, sales, clerical, or tech-support roles. This suggests the dataset is heavily weighted toward professional and administrative occupations. Nearly a third of the population works in manual labor or skilled trade positions (craft, transport, machine operation, farming, etc.). This indicates a significant segment engaged in physically intensive or technical labor.\n",
    "\n",
    "`native_region`\n",
    "\n",
    "The vast majority of individuals are from North America (~92.3%). Smaller proportions are from Central America, Asia, Europe, South America, and a generic Other category. The heavy concentration of North American individuals reflects the U.S. focus of the dataset. \n",
    "\n",
    "`age_group`\n",
    "\n",
    "The largest groups are 26–35 and 36–45, followed by 46–60. These three age groups represent about 73% of the dataset. Very few individuals are under 18 or above 75, consistent with the dataset's focus on the working-age population."
   ]
  },
  {
   "cell_type": "markdown",
   "id": "8f001d82-73c8-4b53-9c5f-ff47cef6e751",
   "metadata": {},
   "source": [
    "## Income Distribution\n",
    "\n",
    "Given that `income` is the target variable, most of the analysis hereafter will be based on it. We first of all examine the income distribution in the dataset."
   ]
  },
  {
   "cell_type": "code",
   "execution_count": null,
   "id": "e2c2ea43-9431-4df7-b931-512df37e523d",
   "metadata": {},
   "outputs": [],
   "source": [
    "adult_df_income = adult_df.groupby('income').size().reset_index(name='total')\n",
    "adult_df_income"
   ]
  },
  {
   "cell_type": "code",
   "execution_count": null,
   "id": "367a2e57-74dd-4443-81b6-4c09f17359f2",
   "metadata": {},
   "outputs": [],
   "source": [
    "fig = px.pie(adult_df_income, names='income', values='total', title='Overall Income Distribution', color_discrete_sequence=px.colors.sequential.RdBu)\n",
    "fig.update_layout(template=\"presentation\", legend_title=dict(text='Income Level'), paper_bgcolor = \"rgba(0, 0, 0, 0)\", plot_bgcolor = \"rgba(0, 0, 0, 0)\")\n",
    "fig.show()\n",
    "fig.write_image(os.path.join(results_dir, 'income_distribution_pie_chart.jpg'))\n",
    "fig.write_image(os.path.join(results_dir, 'income_distribution_pie_chart.png'))\n",
    "fig.write_html(os.path.join(results_dir, 'income_distribution_pie_chart.html'))"
   ]
  },
  {
   "cell_type": "markdown",
   "id": "be9565ec-9405-45c1-99b6-dbde930cb0e7",
   "metadata": {},
   "source": [
    "This pie chart visualizes the overall income split: 76% of individuals earn ≤50K, while 24% earn >50K. This means that nearly 3 out of 4 individuals fall into the lower income bracket (<=50K). This shows that there is a significant imbalance."
   ]
  },
  {
   "cell_type": "markdown",
   "id": "b63fa8d4-b9d3-43e1-9438-9a205ef0a906",
   "metadata": {},
   "source": [
    "## Income by Age Group"
   ]
  },
  {
   "cell_type": "code",
   "execution_count": null,
   "id": "851f845d-e758-4db2-9598-380f362e1b8f",
   "metadata": {},
   "outputs": [],
   "source": [
    "adult_df_income_age = adult_df.groupby(['age_group', 'income']).size().reset_index(name='total_by_age').sort_values(['age_group', 'income'])\n",
    "adult_df_income_age"
   ]
  },
  {
   "cell_type": "code",
   "execution_count": null,
   "id": "0cb88e2a-e303-4f7b-9e9f-633451dd56f3",
   "metadata": {},
   "outputs": [],
   "source": [
    "total_per_group = adult_df_income_age.groupby('age_group')['total_by_age'].transform('sum')\n",
    "adult_df_income_age['percentage'] = (adult_df_income_age['total_by_age']/total_per_group) *100\n",
    "adult_df_income_age"
   ]
  },
  {
   "cell_type": "code",
   "execution_count": null,
   "id": "33ce5118-7015-4732-a88c-615f398bd10e",
   "metadata": {},
   "outputs": [],
   "source": [
    "fig = px.bar(\n",
    "    adult_df_income_age,\n",
    "    x = 'age_group',\n",
    "    y = 'percentage',\n",
    "    color = 'income',\n",
    "    title = 'Income Distribution by Age Group (%)',\n",
    "    barmode = 'group', \n",
    "    height = 500,\n",
    "    color_discrete_sequence=px.colors.sequential.RdBu,\n",
    "    text= 'percentage'\n",
    ")\n",
    "fig.update_traces(texttemplate='%{text:.2f}%', textposition='outside')\n",
    "fig.update_layout(template=\"presentation\", xaxis_title='Age Group', \n",
    "                  yaxis_title='Percentage of population', legend_title=dict(text='Income Level'),\n",
    "                  paper_bgcolor = \"rgba(0, 0, 0, 0)\", plot_bgcolor = \"rgba(0, 0, 0, 0)\")\n",
    "fig.show()\n",
    "fig.write_image(os.path.join(results_dir, 'income_distribution_by_agegroup_bar_plot.jpg'))\n",
    "fig.write_image(os.path.join(results_dir, 'income_distribution_by_agegroup_bar_plot.png'))\n",
    "fig.write_html(os.path.join(results_dir, 'income_distribution_by_agegroup_bar_plot.html'))"
   ]
  },
  {
   "cell_type": "markdown",
   "id": "1a9af0ad-c7f4-43ac-9a25-78c631175af4",
   "metadata": {},
   "source": [
    "The bar chart visualizes the income distribution across age groups, using percentages within each group. There is an evident pattern in terms of income progression over the years with a gradual increase in terms of the number of people earning >50K starting from 0 amongst those aged 18 and below, peaking between 36 and 60 years, then declining after 60 years but not to zero.\n",
    "\n",
    "All individuals under 18 earn <=50K, likely due to being students, minors, or ineligible for full-time employment. Extremely few young adults (2.1%) exceed 50K, as most are early in their careers, pursuing education, or in entry-level jobs. For the 26-35 age group, there's a noticeable improvement — roughly 1 in 5 individuals in this group earn >50K, reflecting early career progression and accumulation of qualifications/experience. A substantial income increase is seen in the 36-45 age group: over a third now earn >50K. This is typically considered prime earning age where individuals settle into stable, higher-paying positions. Highest proportion of >50K earners is seen amongst individuals aged between 46 and 60— nearly 4 in 10. This reflects career maturity, peak seniority levels, and accumulated experience. There's a drop-off in high incomes as many transition to retirement, part-time, or less demanding roles in the age group 61-75. Yet about 1 in 4 still earn >50K. Most in 76+ age group earn <=50K, likely due to retirement, pensions, or fixed incomes — but a small minority still earn higher incomes, possibly through continued work or investments."
   ]
  },
  {
   "cell_type": "markdown",
   "id": "9599942b-2c88-4b26-acd7-8de544b5bc1d",
   "metadata": {},
   "source": [
    "## Income by Native Region"
   ]
  },
  {
   "cell_type": "code",
   "execution_count": null,
   "id": "56d975a6-f9bf-4aaf-8861-1e528fd3e6ca",
   "metadata": {},
   "outputs": [],
   "source": [
    "adult_df_income_reg = adult_df.groupby(['native_region', 'income']).size().reset_index(name='total_by_region').sort_values(['native_region', 'income'])\n",
    "adult_df_income_reg"
   ]
  },
  {
   "cell_type": "code",
   "execution_count": null,
   "id": "e3ddd651-4ac9-41ef-b763-d4377ef1cd4f",
   "metadata": {},
   "outputs": [],
   "source": [
    "total_per_native_region = adult_df_income_reg.groupby('native_region')['total_by_region'].transform('sum')\n",
    "adult_df_income_reg['percentage'] = (adult_df_income_reg['total_by_region']/total_per_native_region) *100\n",
    "adult_df_income_reg"
   ]
  },
  {
   "cell_type": "code",
   "execution_count": null,
   "id": "59f5bf1d-2df9-44b3-bc69-b0d209aec9d6",
   "metadata": {},
   "outputs": [],
   "source": [
    "fig = px.bar(\n",
    "    adult_df_income_reg,\n",
    "    x = 'native_region',\n",
    "    y = 'percentage',\n",
    "    color = 'income',\n",
    "    title = 'Income Distribution by Native Region (%)',\n",
    "    barmode = 'group', \n",
    "    height = 600,\n",
    "    width=1000,\n",
    "    color_discrete_sequence=px.colors.sequential.RdBu,\n",
    "    text= 'percentage'\n",
    ")\n",
    "fig.update_traces(texttemplate='%{text:.2f}%', textposition='outside')\n",
    "fig.update_layout(template=\"presentation\", xaxis_title='Native Region', yaxis_title='Percentage of population', legend_title=dict(text='Income Level'),\n",
    "                  xaxis_title_standoff=50, paper_bgcolor = \"rgba(0, 0, 0, 0)\", plot_bgcolor = \"rgba(0, 0, 0, 0)\")\n",
    "fig.show()\n",
    "fig.write_image(os.path.join(results_dir, 'income_distribution_by_nativeregion_bar_plot.jpg'))\n",
    "fig.write_image(os.path.join(results_dir, 'income_distribution_by_nativeregion_bar_plot.png'))\n",
    "fig.write_html(os.path.join(results_dir, 'income_distribution_by_nativeregion_bar_plot.html'))"
   ]
  },
  {
   "cell_type": "markdown",
   "id": "99d74c2a-bea4-42c4-b267-931f4042d7ba",
   "metadata": {},
   "source": [
    "Asia (30.7%) and Europe (29.2%) have the highest proportions of high-income earners. This suggests these immigrant groups might be better integrated into high-paying professional roles, or may represent a more skilled migrant profile in the dataset. Central America (11.1%) and South America (12.1%) have the lowest proportions of >50K earners. With 24.2% of North Americans earning >50K, this serves as a middle-ground baseline. Interestingly, both Asian and European groups outperform the native-born population proportionally in high-income brackets. The 'Other' group sits around 25.1%, close to North America’s rate. This likely reflects a diverse mix of regions not explicitly listed."
   ]
  },
  {
   "cell_type": "markdown",
   "id": "d3ae52bd-9618-49de-8873-be11321dea88",
   "metadata": {},
   "source": [
    "## Income by Race"
   ]
  },
  {
   "cell_type": "code",
   "execution_count": null,
   "id": "3df9ef53-1b1b-401e-b841-6d2439caed21",
   "metadata": {},
   "outputs": [],
   "source": [
    "adult_df_income_race = adult_df.groupby(['race', 'income']).size().reset_index(name='total_by_race').sort_values(['race', 'income'])\n",
    "adult_df_income_race"
   ]
  },
  {
   "cell_type": "code",
   "execution_count": null,
   "id": "92bb6553-36a0-44e1-ade2-18dbf59e4ef1",
   "metadata": {},
   "outputs": [],
   "source": [
    "total_per_race = adult_df_income_race.groupby('race')['total_by_race'].transform('sum')\n",
    "adult_df_income_race['percentage'] = (adult_df_income_race['total_by_race']/total_per_race) *100\n",
    "adult_df_income_race"
   ]
  },
  {
   "cell_type": "code",
   "execution_count": null,
   "id": "ebb95204-56b4-42ae-bc76-086fb548caab",
   "metadata": {},
   "outputs": [],
   "source": [
    "fig = px.bar(\n",
    "    adult_df_income_race,\n",
    "    x = 'race',\n",
    "    y = 'percentage',\n",
    "    color = 'income',\n",
    "    title = 'Income Distribution by Race (%)',\n",
    "    barmode = 'group', \n",
    "    height = 700,\n",
    "    width=1000,\n",
    "    color_discrete_sequence=px.colors.sequential.RdBu,\n",
    "    text= 'percentage'\n",
    ")\n",
    "fig.update_traces(texttemplate='%{text:.2f}%', textposition='outside')\n",
    "fig.update_layout(template=\"presentation\", xaxis_title='Race', yaxis_title='Percentage of population', legend_title=dict(text='Income Level'),\n",
    "                  xaxis_title_standoff=30, margin=dict(l=60, r=50, t=50, b=150), paper_bgcolor = \"rgba(0, 0, 0, 0)\", plot_bgcolor = \"rgba(0, 0, 0, 0)\")\n",
    "fig.show()\n",
    "fig.write_image(os.path.join(results_dir, 'income_distribution_by_race_bar_plot.jpg'))\n",
    "fig.write_image(os.path.join(results_dir, 'income_distribution_by_race_bar_plot.png'))\n",
    "fig.write_html(os.path.join(results_dir, 'income_distribution_by_race_bar_plot.html'))"
   ]
  },
  {
   "cell_type": "markdown",
   "id": "601d2f53-88ae-467d-be02-11d6912d278a",
   "metadata": {},
   "source": [
    "Asian or Pacific Islander (26.6%) and White (25.6%) populations have the highest proportions of >50K earners. Asians/Pacific Islanders marginally outperform Whites, a pattern often attributed to occupational concentration in high-paying sectors like technology and medicine. On the other hand, American Indian or Eskimo (11.6%), Black (12.4%), and Other (9.2%) groups show significantly lower rates of high-income earners. These figures reflect long-standing economic disparities rooted in historical exclusion, occupational segregation, and systemic inequality.\n",
    "\n",
    "The stark differences in high-income proportions:\n",
    "\n",
    "- **Between Whites and Blacks**: 25.6% vs 12.4% — slightly over double the proportion.\n",
    "- **Between Asians and Others**: 26.6% vs 9.2% — nearly triple.\n",
    "\n",
    "These disparities are consistent with well-documented wage gaps and underrepresentation of marginalized groups in higher-paying roles."
   ]
  },
  {
   "cell_type": "markdown",
   "id": "ea196d47-fd84-4214-80ed-e9efa0da60c7",
   "metadata": {},
   "source": [
    "## Income by Education Level and Occupation Group"
   ]
  },
  {
   "cell_type": "code",
   "execution_count": null,
   "id": "60cb557a-cd5b-4aec-a674-d8e685be4dc4",
   "metadata": {},
   "outputs": [],
   "source": [
    "adult_df_income_edu_occ = (adult_df.groupby(['education-level', 'occupation_grouped', 'income'])\n",
    "                           .size().reset_index(name='total').sort_values('total', ascending = False))\n",
    "adult_df_income_edu_occ"
   ]
  },
  {
   "cell_type": "code",
   "execution_count": null,
   "id": "44804dd8-91a7-46b6-978d-f389fd904ffa",
   "metadata": {},
   "outputs": [],
   "source": [
    "adult_df_income_edu_occ['edu_occ'] = (adult_df_income_edu_occ['education-level'] + \" | \"\n",
    "                                     + adult_df_income_edu_occ['occupation_grouped'])\n",
    "adult_df_income_edu_occ"
   ]
  },
  {
   "cell_type": "code",
   "execution_count": null,
   "id": "f51aebf1-f3b8-4c2d-a74f-4f419db3ec65",
   "metadata": {},
   "outputs": [],
   "source": [
    "num = 15\n",
    "adult_df_combos = adult_df_income_edu_occ.head(num)\n",
    "fig = px.bar(\n",
    "    adult_df_combos,\n",
    "    x = 'total',\n",
    "    y = 'edu_occ',\n",
    "    color = 'income',\n",
    "    orientation = 'h',\n",
    "    title = f'Top {num} Education and Occupation Groups Combinations by Income Group',\n",
    "    # barmode = 'group', \n",
    "    height = 500,\n",
    "    width=1100,\n",
    "    color_discrete_sequence=px.colors.sequential.RdBu,\n",
    "    text = 'total'\n",
    ")\n",
    "fig.update_layout(template=\"presentation\", \n",
    "                  xaxis_title='Number of Individuals', \n",
    "                  yaxis_title='Education | Occupation Group', \n",
    "                  legend_title=dict(text='Income Level'),\n",
    "                  margin=dict(l=450, r=50, t=50, b=50),\n",
    "                  paper_bgcolor = \"rgba(0, 0, 0, 0)\", \n",
    "                  plot_bgcolor = \"rgba(0, 0, 0, 0)\")\n",
    "fig.update_traces(textposition='inside')\n",
    "fig.show()\n",
    "fig.write_image(os.path.join(results_dir, 'income_distribution_by_eduandocc_bar_plot.jpg'))\n",
    "fig.write_image(os.path.join(results_dir, 'income_distribution_by_eduandocc_bar_plot.png'))\n",
    "fig.write_html(os.path.join(results_dir, 'income_distribution_by_eduandocc_bar_plot.html'))"
   ]
  },
  {
   "cell_type": "markdown",
   "id": "d052c5d4-ca37-4794-b534-ac8f9a8c3464",
   "metadata": {},
   "source": [
    "From the bar chart, we can pick out the largest groups per income-level. We see that secondary-school graduates working a blue collar job occupy the largest group in the dataset (3976). This reflects a common socio-economic profile: individuals with basic schooling in manual or technical trades predominantly earning lower incomes. The largest high-income group are tertiary-educated individuals in white collar roles. This highlights the strong earning advantage conferred by higher education and skilled jobs.\n",
    "\n",
    "Some of the key patterns we can get from the dataset are:\n",
    "\n",
    "- **Education matters, but isn’t deterministic**\n",
    "\n",
    "Tertiary education combined with white-collar work offers the highest income prospects. Yet a substantial number of tertiary-educated white-collar workers earn <=50K, likely early career, part-time, or structural pay gaps.\n",
    "\n",
    "- **Blue-collar and service work predominantly pay <=50K, regardless of education.**\n",
    "\n",
    "Even some college education doesn’t guarantee high incomes in these sectors. Manual and service sector income is highly occupation-dependent (some skilled trades can break the 50K mark).\n",
    "\n",
    "- **Some non-tertiary education groups do reach >50K**\n",
    "\n",
    "Secondary-school graduates in blue-collar and white-collar work have decent representation among >50K earners. This reflects upward mobility possible through skilled trades, tenure, or niche roles."
   ]
  },
  {
   "cell_type": "code",
   "execution_count": null,
   "id": "c8ec6e03-5844-40ea-998f-2ec20b85158c",
   "metadata": {},
   "outputs": [],
   "source": []
  },
  {
   "cell_type": "code",
   "execution_count": null,
   "id": "88093e40-e300-4068-844f-150015917cee",
   "metadata": {},
   "outputs": [],
   "source": []
  },
  {
   "cell_type": "code",
   "execution_count": null,
   "id": "74eaaa11-0a3c-4dca-bd44-ee3fb36026ba",
   "metadata": {},
   "outputs": [],
   "source": []
  },
  {
   "cell_type": "code",
   "execution_count": null,
   "id": "d8749e0b-5bd9-460b-9556-3131ca4ef56f",
   "metadata": {},
   "outputs": [],
   "source": []
  }
 ],
 "metadata": {
  "kernelspec": {
   "display_name": "Python [conda env:base] *",
   "language": "python",
   "name": "conda-base-py"
  },
  "language_info": {
   "codemirror_mode": {
    "name": "ipython",
    "version": 3
   },
   "file_extension": ".py",
   "mimetype": "text/x-python",
   "name": "python",
   "nbconvert_exporter": "python",
   "pygments_lexer": "ipython3",
   "version": "3.12.7"
  }
 },
 "nbformat": 4,
 "nbformat_minor": 5
}
